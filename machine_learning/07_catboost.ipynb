{
 "cells": [
  {
   "cell_type": "code",
   "execution_count": 34,
   "metadata": {},
   "outputs": [
    {
     "name": "stdout",
     "output_type": "stream",
     "text": [
      "Requirement already satisfied: catboost in c:\\users\\aaima amir\\miniconda3\\lib\\site-packages (1.2.5)\n",
      "Requirement already satisfied: graphviz in c:\\users\\aaima amir\\miniconda3\\lib\\site-packages (from catboost) (0.20.3)\n",
      "Requirement already satisfied: matplotlib in c:\\users\\aaima amir\\miniconda3\\lib\\site-packages (from catboost) (3.8.4)\n",
      "Requirement already satisfied: numpy>=1.16.0 in c:\\users\\aaima amir\\miniconda3\\lib\\site-packages (from catboost) (1.26.4)\n",
      "Requirement already satisfied: pandas>=0.24 in c:\\users\\aaima amir\\miniconda3\\lib\\site-packages (from catboost) (2.2.2)\n",
      "Requirement already satisfied: scipy in c:\\users\\aaima amir\\miniconda3\\lib\\site-packages (from catboost) (1.12.0)\n",
      "Requirement already satisfied: plotly in c:\\users\\aaima amir\\miniconda3\\lib\\site-packages (from catboost) (5.21.0)\n",
      "Requirement already satisfied: six in c:\\users\\aaima amir\\miniconda3\\lib\\site-packages (from catboost) (1.16.0)\n",
      "Requirement already satisfied: python-dateutil>=2.8.2 in c:\\users\\aaima amir\\miniconda3\\lib\\site-packages (from pandas>=0.24->catboost) (2.8.2)\n",
      "Requirement already satisfied: pytz>=2020.1 in c:\\users\\aaima amir\\miniconda3\\lib\\site-packages (from pandas>=0.24->catboost) (2024.1)\n",
      "Requirement already satisfied: tzdata>=2022.7 in c:\\users\\aaima amir\\miniconda3\\lib\\site-packages (from pandas>=0.24->catboost) (2024.1)\n",
      "Requirement already satisfied: contourpy>=1.0.1 in c:\\users\\aaima amir\\miniconda3\\lib\\site-packages (from matplotlib->catboost) (1.2.1)\n",
      "Requirement already satisfied: cycler>=0.10 in c:\\users\\aaima amir\\miniconda3\\lib\\site-packages (from matplotlib->catboost) (0.12.1)\n",
      "Requirement already satisfied: fonttools>=4.22.0 in c:\\users\\aaima amir\\miniconda3\\lib\\site-packages (from matplotlib->catboost) (4.51.0)\n",
      "Requirement already satisfied: kiwisolver>=1.3.1 in c:\\users\\aaima amir\\miniconda3\\lib\\site-packages (from matplotlib->catboost) (1.4.5)\n",
      "Requirement already satisfied: packaging>=20.0 in c:\\users\\aaima amir\\miniconda3\\lib\\site-packages (from matplotlib->catboost) (23.2)\n",
      "Requirement already satisfied: pillow>=8 in c:\\users\\aaima amir\\miniconda3\\lib\\site-packages (from matplotlib->catboost) (10.3.0)\n",
      "Requirement already satisfied: pyparsing>=2.3.1 in c:\\users\\aaima amir\\miniconda3\\lib\\site-packages (from matplotlib->catboost) (3.1.2)\n",
      "Requirement already satisfied: tenacity>=6.2.0 in c:\\users\\aaima amir\\miniconda3\\lib\\site-packages (from plotly->catboost) (8.2.3)\n"
     ]
    }
   ],
   "source": [
    "# catboost algorithms\n",
    "! pip install catboost\n"
   ]
  },
  {
   "cell_type": "code",
   "execution_count": 35,
   "metadata": {},
   "outputs": [],
   "source": [
    "# import libraries\n",
    "import pandas as pd\n",
    "import numpy as np\n",
    "import matplotlib.pyplot as plt\n",
    "import seaborn as sns\n",
    "from sklearn.model_selection import train_test_split\n",
    "from catboost import CatBoostClassifier\n",
    "from sklearn.metrics import accuracy_score,classification_report,confusion_matrix\n",
    "# import KNN imputer and simple imputer\n",
    "from sklearn.impute import SimpleImputer,KNNImputer"
   ]
  },
  {
   "cell_type": "code",
   "execution_count": 36,
   "metadata": {},
   "outputs": [
    {
     "data": {
      "text/html": [
       "<div>\n",
       "<style scoped>\n",
       "    .dataframe tbody tr th:only-of-type {\n",
       "        vertical-align: middle;\n",
       "    }\n",
       "\n",
       "    .dataframe tbody tr th {\n",
       "        vertical-align: top;\n",
       "    }\n",
       "\n",
       "    .dataframe thead th {\n",
       "        text-align: right;\n",
       "    }\n",
       "</style>\n",
       "<table border=\"1\" class=\"dataframe\">\n",
       "  <thead>\n",
       "    <tr style=\"text-align: right;\">\n",
       "      <th></th>\n",
       "      <th>survived</th>\n",
       "      <th>pclass</th>\n",
       "      <th>sex</th>\n",
       "      <th>age</th>\n",
       "      <th>sibsp</th>\n",
       "      <th>parch</th>\n",
       "      <th>fare</th>\n",
       "      <th>embarked</th>\n",
       "      <th>class</th>\n",
       "      <th>who</th>\n",
       "      <th>adult_male</th>\n",
       "      <th>deck</th>\n",
       "      <th>embark_town</th>\n",
       "      <th>alive</th>\n",
       "      <th>alone</th>\n",
       "    </tr>\n",
       "  </thead>\n",
       "  <tbody>\n",
       "    <tr>\n",
       "      <th>0</th>\n",
       "      <td>0</td>\n",
       "      <td>3</td>\n",
       "      <td>male</td>\n",
       "      <td>22.0</td>\n",
       "      <td>1</td>\n",
       "      <td>0</td>\n",
       "      <td>7.2500</td>\n",
       "      <td>S</td>\n",
       "      <td>Third</td>\n",
       "      <td>man</td>\n",
       "      <td>True</td>\n",
       "      <td>NaN</td>\n",
       "      <td>Southampton</td>\n",
       "      <td>no</td>\n",
       "      <td>False</td>\n",
       "    </tr>\n",
       "    <tr>\n",
       "      <th>1</th>\n",
       "      <td>1</td>\n",
       "      <td>1</td>\n",
       "      <td>female</td>\n",
       "      <td>38.0</td>\n",
       "      <td>1</td>\n",
       "      <td>0</td>\n",
       "      <td>71.2833</td>\n",
       "      <td>C</td>\n",
       "      <td>First</td>\n",
       "      <td>woman</td>\n",
       "      <td>False</td>\n",
       "      <td>C</td>\n",
       "      <td>Cherbourg</td>\n",
       "      <td>yes</td>\n",
       "      <td>False</td>\n",
       "    </tr>\n",
       "    <tr>\n",
       "      <th>2</th>\n",
       "      <td>1</td>\n",
       "      <td>3</td>\n",
       "      <td>female</td>\n",
       "      <td>26.0</td>\n",
       "      <td>0</td>\n",
       "      <td>0</td>\n",
       "      <td>7.9250</td>\n",
       "      <td>S</td>\n",
       "      <td>Third</td>\n",
       "      <td>woman</td>\n",
       "      <td>False</td>\n",
       "      <td>NaN</td>\n",
       "      <td>Southampton</td>\n",
       "      <td>yes</td>\n",
       "      <td>True</td>\n",
       "    </tr>\n",
       "    <tr>\n",
       "      <th>3</th>\n",
       "      <td>1</td>\n",
       "      <td>1</td>\n",
       "      <td>female</td>\n",
       "      <td>35.0</td>\n",
       "      <td>1</td>\n",
       "      <td>0</td>\n",
       "      <td>53.1000</td>\n",
       "      <td>S</td>\n",
       "      <td>First</td>\n",
       "      <td>woman</td>\n",
       "      <td>False</td>\n",
       "      <td>C</td>\n",
       "      <td>Southampton</td>\n",
       "      <td>yes</td>\n",
       "      <td>False</td>\n",
       "    </tr>\n",
       "    <tr>\n",
       "      <th>4</th>\n",
       "      <td>0</td>\n",
       "      <td>3</td>\n",
       "      <td>male</td>\n",
       "      <td>35.0</td>\n",
       "      <td>0</td>\n",
       "      <td>0</td>\n",
       "      <td>8.0500</td>\n",
       "      <td>S</td>\n",
       "      <td>Third</td>\n",
       "      <td>man</td>\n",
       "      <td>True</td>\n",
       "      <td>NaN</td>\n",
       "      <td>Southampton</td>\n",
       "      <td>no</td>\n",
       "      <td>True</td>\n",
       "    </tr>\n",
       "  </tbody>\n",
       "</table>\n",
       "</div>"
      ],
      "text/plain": [
       "   survived  pclass     sex   age  sibsp  parch     fare embarked  class  \\\n",
       "0         0       3    male  22.0      1      0   7.2500        S  Third   \n",
       "1         1       1  female  38.0      1      0  71.2833        C  First   \n",
       "2         1       3  female  26.0      0      0   7.9250        S  Third   \n",
       "3         1       1  female  35.0      1      0  53.1000        S  First   \n",
       "4         0       3    male  35.0      0      0   8.0500        S  Third   \n",
       "\n",
       "     who  adult_male deck  embark_town alive  alone  \n",
       "0    man        True  NaN  Southampton    no  False  \n",
       "1  woman       False    C    Cherbourg   yes  False  \n",
       "2  woman       False  NaN  Southampton   yes   True  \n",
       "3  woman       False    C  Southampton   yes  False  \n",
       "4    man        True  NaN  Southampton    no   True  "
      ]
     },
     "execution_count": 36,
     "metadata": {},
     "output_type": "execute_result"
    }
   ],
   "source": [
    "# import the data \n",
    "df=sns.load_dataset('titanic')\n",
    "df.head()\n"
   ]
  },
  {
   "cell_type": "code",
   "execution_count": 37,
   "metadata": {},
   "outputs": [
    {
     "data": {
      "text/plain": [
       "deck           688\n",
       "age            177\n",
       "embarked         2\n",
       "embark_town      2\n",
       "survived         0\n",
       "pclass           0\n",
       "sex              0\n",
       "sibsp            0\n",
       "parch            0\n",
       "fare             0\n",
       "class            0\n",
       "who              0\n",
       "adult_male       0\n",
       "alive            0\n",
       "alone            0\n",
       "dtype: int64"
      ]
     },
     "execution_count": 37,
     "metadata": {},
     "output_type": "execute_result"
    }
   ],
   "source": [
    "df.isnull().sum().sort_values(ascending=False)"
   ]
  },
  {
   "cell_type": "code",
   "execution_count": 38,
   "metadata": {},
   "outputs": [],
   "source": [
    "# drop the deck column\n",
    "df=df.drop('deck',axis=1)"
   ]
  },
  {
   "cell_type": "code",
   "execution_count": 39,
   "metadata": {},
   "outputs": [
    {
     "name": "stdout",
     "output_type": "stream",
     "text": [
      "<class 'pandas.core.frame.DataFrame'>\n",
      "RangeIndex: 891 entries, 0 to 890\n",
      "Data columns (total 14 columns):\n",
      " #   Column       Non-Null Count  Dtype   \n",
      "---  ------       --------------  -----   \n",
      " 0   survived     891 non-null    int64   \n",
      " 1   pclass       891 non-null    int64   \n",
      " 2   sex          891 non-null    object  \n",
      " 3   age          714 non-null    float64 \n",
      " 4   sibsp        891 non-null    int64   \n",
      " 5   parch        891 non-null    int64   \n",
      " 6   fare         891 non-null    float64 \n",
      " 7   embarked     889 non-null    object  \n",
      " 8   class        891 non-null    category\n",
      " 9   who          891 non-null    object  \n",
      " 10  adult_male   891 non-null    bool    \n",
      " 11  embark_town  889 non-null    object  \n",
      " 12  alive        891 non-null    object  \n",
      " 13  alone        891 non-null    bool    \n",
      "dtypes: bool(2), category(1), float64(2), int64(4), object(5)\n",
      "memory usage: 79.4+ KB\n"
     ]
    }
   ],
   "source": [
    "df.info()"
   ]
  },
  {
   "cell_type": "code",
   "execution_count": 40,
   "metadata": {},
   "outputs": [],
   "source": [
    "# impute the missing values in age column using KNNImputer\n",
    "imputer=KNNImputer()\n",
    "df['age']=imputer.fit_transform(df[['age']])"
   ]
  },
  {
   "cell_type": "code",
   "execution_count": 41,
   "metadata": {},
   "outputs": [],
   "source": [
    "# impute the missing values in embarked and embark_town column using SimpleImputer\n",
    "imputer=SimpleImputer(strategy='most_frequent')\n",
    "df[['embarked']]=imputer.fit_transform(df[['embarked']])\n",
    "df[['embark_town']]=imputer.fit_transform(df[['embark_town']])"
   ]
  },
  {
   "cell_type": "code",
   "execution_count": 42,
   "metadata": {},
   "outputs": [],
   "source": [
    "# convert each category column to category\n",
    "categorical_cols=df.select_dtypes(include=['object','category']).columns\n",
    "df[categorical_cols]=df[categorical_cols].astype('category')\n"
   ]
  },
  {
   "cell_type": "code",
   "execution_count": 43,
   "metadata": {},
   "outputs": [],
   "source": [
    "#split the data into X and y\n",
    "X=df.drop('survived',axis=1)\n",
    "y=df['survived']"
   ]
  },
  {
   "cell_type": "code",
   "execution_count": 44,
   "metadata": {},
   "outputs": [],
   "source": [
    "# split the data into train and test split\n",
    "X_train,X_test,y_train,y_test=train_test_split(X,y,test_size=0.2,random_state=0)\n"
   ]
  },
  {
   "cell_type": "code",
   "execution_count": 45,
   "metadata": {},
   "outputs": [],
   "source": [
    "# call the model\n",
    "model=CatBoostClassifier(iterations=100, learning_rate=0.1, depth=6)"
   ]
  },
  {
   "cell_type": "code",
   "execution_count": 46,
   "metadata": {},
   "outputs": [
    {
     "name": "stdout",
     "output_type": "stream",
     "text": [
      "0:\tlearn: 0.6126456\ttotal: 347ms\tremaining: 34.4s\n",
      "1:\tlearn: 0.5508517\ttotal: 462ms\tremaining: 22.6s\n",
      "2:\tlearn: 0.4896715\ttotal: 566ms\tremaining: 18.3s\n",
      "3:\tlearn: 0.4369055\ttotal: 778ms\tremaining: 18.7s\n",
      "4:\tlearn: 0.3947585\ttotal: 978ms\tremaining: 18.6s\n",
      "5:\tlearn: 0.3547057\ttotal: 1.16s\tremaining: 18.2s\n",
      "6:\tlearn: 0.3221894\ttotal: 1.35s\tremaining: 18s\n",
      "7:\tlearn: 0.2911322\ttotal: 1.56s\tremaining: 17.9s\n",
      "8:\tlearn: 0.2602813\ttotal: 1.65s\tremaining: 16.6s\n",
      "9:\tlearn: 0.2405173\ttotal: 1.84s\tremaining: 16.6s\n",
      "10:\tlearn: 0.2214942\ttotal: 2.07s\tremaining: 16.7s\n",
      "11:\tlearn: 0.2011450\ttotal: 2.23s\tremaining: 16.3s\n",
      "12:\tlearn: 0.1831262\ttotal: 2.36s\tremaining: 15.8s\n",
      "13:\tlearn: 0.1686156\ttotal: 2.5s\tremaining: 15.4s\n",
      "14:\tlearn: 0.1521290\ttotal: 2.57s\tremaining: 14.6s\n",
      "15:\tlearn: 0.1413503\ttotal: 2.73s\tremaining: 14.3s\n",
      "16:\tlearn: 0.1309976\ttotal: 2.85s\tremaining: 13.9s\n",
      "17:\tlearn: 0.1185861\ttotal: 2.88s\tremaining: 13.1s\n",
      "18:\tlearn: 0.1099839\ttotal: 3.01s\tremaining: 12.8s\n",
      "19:\tlearn: 0.1022354\ttotal: 3.2s\tremaining: 12.8s\n",
      "20:\tlearn: 0.0964299\ttotal: 3.3s\tremaining: 12.4s\n",
      "21:\tlearn: 0.0881989\ttotal: 3.39s\tremaining: 12s\n",
      "22:\tlearn: 0.0812196\ttotal: 3.58s\tremaining: 12s\n",
      "23:\tlearn: 0.0764959\ttotal: 3.78s\tremaining: 12s\n",
      "24:\tlearn: 0.0712322\ttotal: 3.98s\tremaining: 11.9s\n",
      "25:\tlearn: 0.0666203\ttotal: 4.1s\tremaining: 11.7s\n",
      "26:\tlearn: 0.0623854\ttotal: 4.28s\tremaining: 11.6s\n",
      "27:\tlearn: 0.0585712\ttotal: 4.59s\tremaining: 11.8s\n",
      "28:\tlearn: 0.0554133\ttotal: 4.99s\tremaining: 12.2s\n",
      "29:\tlearn: 0.0524515\ttotal: 5.12s\tremaining: 12s\n",
      "30:\tlearn: 0.0500238\ttotal: 5.28s\tremaining: 11.7s\n",
      "31:\tlearn: 0.0459645\ttotal: 5.36s\tremaining: 11.4s\n",
      "32:\tlearn: 0.0433761\ttotal: 5.51s\tremaining: 11.2s\n",
      "33:\tlearn: 0.0415987\ttotal: 5.66s\tremaining: 11s\n",
      "34:\tlearn: 0.0405188\ttotal: 5.91s\tremaining: 11s\n",
      "35:\tlearn: 0.0384421\ttotal: 6.03s\tremaining: 10.7s\n",
      "36:\tlearn: 0.0365127\ttotal: 6.12s\tremaining: 10.4s\n",
      "37:\tlearn: 0.0349852\ttotal: 6.24s\tremaining: 10.2s\n",
      "38:\tlearn: 0.0334034\ttotal: 6.41s\tremaining: 10s\n",
      "39:\tlearn: 0.0318707\ttotal: 6.6s\tremaining: 9.9s\n",
      "40:\tlearn: 0.0308726\ttotal: 6.76s\tremaining: 9.73s\n",
      "41:\tlearn: 0.0298321\ttotal: 6.93s\tremaining: 9.57s\n",
      "42:\tlearn: 0.0288345\ttotal: 7.02s\tremaining: 9.3s\n",
      "43:\tlearn: 0.0276041\ttotal: 7.15s\tremaining: 9.1s\n",
      "44:\tlearn: 0.0264438\ttotal: 7.39s\tremaining: 9.03s\n",
      "45:\tlearn: 0.0258217\ttotal: 7.48s\tremaining: 8.79s\n",
      "46:\tlearn: 0.0242835\ttotal: 7.52s\tremaining: 8.48s\n",
      "47:\tlearn: 0.0228713\ttotal: 7.56s\tremaining: 8.19s\n",
      "48:\tlearn: 0.0219680\ttotal: 7.76s\tremaining: 8.08s\n",
      "49:\tlearn: 0.0212091\ttotal: 7.88s\tremaining: 7.88s\n",
      "50:\tlearn: 0.0203608\ttotal: 7.95s\tremaining: 7.64s\n",
      "51:\tlearn: 0.0192598\ttotal: 8.01s\tremaining: 7.39s\n",
      "52:\tlearn: 0.0187201\ttotal: 8.18s\tremaining: 7.25s\n",
      "53:\tlearn: 0.0182831\ttotal: 8.36s\tremaining: 7.12s\n",
      "54:\tlearn: 0.0177523\ttotal: 8.45s\tremaining: 6.92s\n",
      "55:\tlearn: 0.0172911\ttotal: 8.59s\tremaining: 6.75s\n",
      "56:\tlearn: 0.0165236\ttotal: 8.7s\tremaining: 6.56s\n",
      "57:\tlearn: 0.0161422\ttotal: 8.88s\tremaining: 6.43s\n",
      "58:\tlearn: 0.0153608\ttotal: 8.94s\tremaining: 6.21s\n",
      "59:\tlearn: 0.0147554\ttotal: 9.05s\tremaining: 6.03s\n",
      "60:\tlearn: 0.0144907\ttotal: 9.32s\tremaining: 5.96s\n",
      "61:\tlearn: 0.0141955\ttotal: 9.5s\tremaining: 5.82s\n",
      "62:\tlearn: 0.0139597\ttotal: 9.71s\tremaining: 5.7s\n",
      "63:\tlearn: 0.0137861\ttotal: 9.85s\tremaining: 5.54s\n",
      "64:\tlearn: 0.0134319\ttotal: 10s\tremaining: 5.41s\n",
      "65:\tlearn: 0.0130066\ttotal: 10.3s\tremaining: 5.33s\n",
      "66:\tlearn: 0.0126797\ttotal: 10.7s\tremaining: 5.27s\n",
      "67:\tlearn: 0.0123771\ttotal: 11s\tremaining: 5.17s\n",
      "68:\tlearn: 0.0120173\ttotal: 11.2s\tremaining: 5.03s\n",
      "69:\tlearn: 0.0117069\ttotal: 11.4s\tremaining: 4.88s\n",
      "70:\tlearn: 0.0115269\ttotal: 11.6s\tremaining: 4.73s\n",
      "71:\tlearn: 0.0113758\ttotal: 11.7s\tremaining: 4.55s\n",
      "72:\tlearn: 0.0111329\ttotal: 11.9s\tremaining: 4.39s\n",
      "73:\tlearn: 0.0109613\ttotal: 12.1s\tremaining: 4.24s\n",
      "74:\tlearn: 0.0105956\ttotal: 12.2s\tremaining: 4.08s\n",
      "75:\tlearn: 0.0104533\ttotal: 12.3s\tremaining: 3.9s\n",
      "76:\tlearn: 0.0102193\ttotal: 12.5s\tremaining: 3.73s\n",
      "77:\tlearn: 0.0100752\ttotal: 12.6s\tremaining: 3.56s\n",
      "78:\tlearn: 0.0099085\ttotal: 12.8s\tremaining: 3.41s\n",
      "79:\tlearn: 0.0098089\ttotal: 13s\tremaining: 3.25s\n",
      "80:\tlearn: 0.0096242\ttotal: 13.3s\tremaining: 3.11s\n",
      "81:\tlearn: 0.0095010\ttotal: 13.5s\tremaining: 2.96s\n",
      "82:\tlearn: 0.0093828\ttotal: 13.7s\tremaining: 2.8s\n",
      "83:\tlearn: 0.0092403\ttotal: 13.9s\tremaining: 2.65s\n",
      "84:\tlearn: 0.0089926\ttotal: 14s\tremaining: 2.48s\n",
      "85:\tlearn: 0.0088741\ttotal: 14.2s\tremaining: 2.32s\n",
      "86:\tlearn: 0.0087565\ttotal: 14.4s\tremaining: 2.15s\n",
      "87:\tlearn: 0.0086512\ttotal: 14.6s\tremaining: 1.99s\n",
      "88:\tlearn: 0.0085119\ttotal: 14.7s\tremaining: 1.82s\n",
      "89:\tlearn: 0.0084248\ttotal: 14.9s\tremaining: 1.66s\n",
      "90:\tlearn: 0.0083291\ttotal: 15.1s\tremaining: 1.49s\n",
      "91:\tlearn: 0.0082565\ttotal: 15.2s\tremaining: 1.32s\n",
      "92:\tlearn: 0.0081193\ttotal: 15.3s\tremaining: 1.15s\n",
      "93:\tlearn: 0.0080249\ttotal: 15.5s\tremaining: 988ms\n",
      "94:\tlearn: 0.0079449\ttotal: 15.6s\tremaining: 821ms\n",
      "95:\tlearn: 0.0078755\ttotal: 15.8s\tremaining: 656ms\n",
      "96:\tlearn: 0.0077841\ttotal: 15.9s\tremaining: 492ms\n",
      "97:\tlearn: 0.0076991\ttotal: 16s\tremaining: 327ms\n",
      "98:\tlearn: 0.0076085\ttotal: 16.2s\tremaining: 164ms\n",
      "99:\tlearn: 0.0075395\ttotal: 16.3s\tremaining: 0us\n"
     ]
    },
    {
     "data": {
      "text/plain": [
       "<catboost.core.CatBoostClassifier at 0x2187cd16200>"
      ]
     },
     "execution_count": 46,
     "metadata": {},
     "output_type": "execute_result"
    }
   ],
   "source": [
    "# fit the model\n",
    "model.fit(X_train,y_train,cat_features=categorical_cols.tolist())"
   ]
  },
  {
   "cell_type": "code",
   "execution_count": 47,
   "metadata": {},
   "outputs": [],
   "source": [
    "# predictions\n",
    "y_pred=model.predict(X_test)"
   ]
  },
  {
   "cell_type": "code",
   "execution_count": 48,
   "metadata": {},
   "outputs": [
    {
     "name": "stdout",
     "output_type": "stream",
     "text": [
      "Confusion Matrix:\n",
      " [[110   0]\n",
      " [  0  69]]\n",
      "Classification Report:\n",
      "               precision    recall  f1-score   support\n",
      "\n",
      "           0       1.00      1.00      1.00       110\n",
      "           1       1.00      1.00      1.00        69\n",
      "\n",
      "    accuracy                           1.00       179\n",
      "   macro avg       1.00      1.00      1.00       179\n",
      "weighted avg       1.00      1.00      1.00       179\n",
      "\n",
      "Accuracy Score: 1.0\n"
     ]
    }
   ],
   "source": [
    "# evaluate the model\n",
    "print(\"Confusion Matrix:\\n\",confusion_matrix(y_test,y_pred))\n",
    "print(\"Classification Report:\\n\",classification_report(y_test,y_pred))\n",
    "print(\"Accuracy Score:\",accuracy_score(y_test,y_pred))"
   ]
  }
 ],
 "metadata": {
  "kernelspec": {
   "display_name": "base",
   "language": "python",
   "name": "python3"
  },
  "language_info": {
   "codemirror_mode": {
    "name": "ipython",
    "version": 3
   },
   "file_extension": ".py",
   "mimetype": "text/x-python",
   "name": "python",
   "nbconvert_exporter": "python",
   "pygments_lexer": "ipython3",
   "version": "3.10.14"
  }
 },
 "nbformat": 4,
 "nbformat_minor": 2
}
